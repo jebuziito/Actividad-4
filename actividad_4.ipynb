{
 "cells": [
  {
   "cell_type": "code",
   "execution_count": 2,
   "metadata": {},
   "outputs": [],
   "source": [
    "#invocar las bibliotecas de pandas para para el manejo de los datos\n",
    "import pandas as pd\n",
    "import numpy as np\n",
    "import matplotlib.pyplot as plt\n"
   ]
  },
  {
   "cell_type": "code",
   "execution_count": 3,
   "metadata": {},
   "outputs": [],
   "source": [
    "#poner los nombres de las columnas del archivo de datos que queremos manipular \"sentinels={}\"\n",
    "sentinels = {'PRECIP': ['Nulo'],'EVAP':['Nulo'],'TMAX':['Nulo'],'TMIN':['Nulo']}"
   ]
  },
  {
   "cell_type": "code",
   "execution_count": 4,
   "metadata": {},
   "outputs": [],
   "source": [
    "#ingresamos el archivo de datos y lo leemos\n",
    "#saltamos el primer renglon por que es de los titulos, ponemos los sentinels para que se le pongan los titululos a las columnas  \n",
    "df0 = pd.read_csv('bahia_de_kino.txt', skiprows=1, sep='\\s+', header=None,names = [\"DD/MM/AAAA\", \"PRECIP\", \"EVAP\", \"TMAX\", \"TMIN\"],na_values=sentinels)\n",
    "\n"
   ]
  },
  {
   "cell_type": "code",
   "execution_count": 5,
   "metadata": {},
   "outputs": [],
   "source": [
    "#convertimos la variable de la fecha en el tiempo con \"pd.to_datetime(df0.apply(lambda x: x[])\"\n",
    "df0['FECHA'] = pd.to_datetime(df0.apply(lambda x: x['DD/MM/AAAA'] , 1), dayfirst=True)\n",
    "\n",
    "#acomodamos la fecha al final\n",
    "df0 = df0.drop(['DD/MM/AAAA'], 1)"
   ]
  },
  {
   "cell_type": "code",
   "execution_count": 6,
   "metadata": {},
   "outputs": [
    {
     "data": {
      "text/html": [
       "<div>\n",
       "<style scoped>\n",
       "    .dataframe tbody tr th:only-of-type {\n",
       "        vertical-align: middle;\n",
       "    }\n",
       "\n",
       "    .dataframe tbody tr th {\n",
       "        vertical-align: top;\n",
       "    }\n",
       "\n",
       "    .dataframe thead th {\n",
       "        text-align: right;\n",
       "    }\n",
       "</style>\n",
       "<table border=\"1\" class=\"dataframe\">\n",
       "  <thead>\n",
       "    <tr style=\"text-align: right;\">\n",
       "      <th></th>\n",
       "      <th>PRECIP</th>\n",
       "      <th>EVAP</th>\n",
       "      <th>TMAX</th>\n",
       "      <th>TMIN</th>\n",
       "      <th>FECHA</th>\n",
       "    </tr>\n",
       "  </thead>\n",
       "  <tbody>\n",
       "    <tr>\n",
       "      <th>0</th>\n",
       "      <td>0.0</td>\n",
       "      <td>NaN</td>\n",
       "      <td>19.5</td>\n",
       "      <td>2.0</td>\n",
       "      <td>1961-02-01</td>\n",
       "    </tr>\n",
       "    <tr>\n",
       "      <th>1</th>\n",
       "      <td>0.0</td>\n",
       "      <td>NaN</td>\n",
       "      <td>20.0</td>\n",
       "      <td>2.5</td>\n",
       "      <td>1961-02-02</td>\n",
       "    </tr>\n",
       "    <tr>\n",
       "      <th>2</th>\n",
       "      <td>0.0</td>\n",
       "      <td>2.7</td>\n",
       "      <td>21.5</td>\n",
       "      <td>1.8</td>\n",
       "      <td>1961-02-03</td>\n",
       "    </tr>\n",
       "    <tr>\n",
       "      <th>3</th>\n",
       "      <td>0.0</td>\n",
       "      <td>3.0</td>\n",
       "      <td>16.7</td>\n",
       "      <td>1.0</td>\n",
       "      <td>1961-02-04</td>\n",
       "    </tr>\n",
       "    <tr>\n",
       "      <th>4</th>\n",
       "      <td>0.0</td>\n",
       "      <td>1.3</td>\n",
       "      <td>11.4</td>\n",
       "      <td>4.0</td>\n",
       "      <td>1961-02-05</td>\n",
       "    </tr>\n",
       "  </tbody>\n",
       "</table>\n",
       "</div>"
      ],
      "text/plain": [
       "   PRECIP  EVAP  TMAX  TMIN      FECHA\n",
       "0     0.0   NaN  19.5   2.0 1961-02-01\n",
       "1     0.0   NaN  20.0   2.5 1961-02-02\n",
       "2     0.0   2.7  21.5   1.8 1961-02-03\n",
       "3     0.0   3.0  16.7   1.0 1961-02-04\n",
       "4     0.0   1.3  11.4   4.0 1961-02-05"
      ]
     },
     "execution_count": 6,
     "metadata": {},
     "output_type": "execute_result"
    }
   ],
   "source": [
    "#imprimimos los primeros datos para ver como quedó despues de los cambios\n",
    "df0.head()"
   ]
  },
  {
   "cell_type": "code",
   "execution_count": 7,
   "metadata": {},
   "outputs": [
    {
     "data": {
      "text/plain": [
       "PRECIP           float64\n",
       "EVAP             float64\n",
       "TMAX             float64\n",
       "TMIN             float64\n",
       "FECHA     datetime64[ns]\n",
       "dtype: object"
      ]
     },
     "execution_count": 7,
     "metadata": {},
     "output_type": "execute_result"
    }
   ],
   "source": [
    "#tipos de variables \n",
    "df0.dtypes"
   ]
  },
  {
   "cell_type": "code",
   "execution_count": 8,
   "metadata": {},
   "outputs": [
    {
     "data": {
      "text/plain": [
       "PRECIP     0.955698\n",
       "EVAP       5.679653\n",
       "TMAX      26.371555\n",
       "TMIN       8.596580\n",
       "dtype: float64"
      ]
     },
     "execution_count": 8,
     "metadata": {},
     "output_type": "execute_result"
    }
   ],
   "source": [
    "#promedios de cada variable tipo float64\n",
    "df0.mean() "
   ]
  },
  {
   "cell_type": "code",
   "execution_count": 9,
   "metadata": {},
   "outputs": [
    {
     "data": {
      "text/plain": [
       "PRECIP    4.043399\n",
       "EVAP      3.137320\n",
       "TMAX      8.018800\n",
       "TMIN      7.895741\n",
       "dtype: float64"
      ]
     },
     "execution_count": 9,
     "metadata": {},
     "output_type": "execute_result"
    }
   ],
   "source": [
    "#deviacion estandar de cada variable\n",
    "df0.std()"
   ]
  },
  {
   "cell_type": "code",
   "execution_count": 10,
   "metadata": {},
   "outputs": [
    {
     "data": {
      "text/plain": [
       "PRECIP     0.0\n",
       "EVAP       5.3\n",
       "TMAX      27.0\n",
       "TMIN       8.0\n",
       "dtype: float64"
      ]
     },
     "execution_count": 10,
     "metadata": {},
     "output_type": "execute_result"
    }
   ],
   "source": [
    "#mediana de cada variable\n",
    "df0.median()"
   ]
  },
  {
   "cell_type": "code",
   "execution_count": 11,
   "metadata": {},
   "outputs": [
    {
     "data": {
      "text/plain": [
       "PRECIP                     70\n",
       "EVAP                     17.6\n",
       "TMAX                       45\n",
       "TMIN                       27\n",
       "FECHA     2011-07-31 00:00:00\n",
       "dtype: object"
      ]
     },
     "execution_count": 11,
     "metadata": {},
     "output_type": "execute_result"
    }
   ],
   "source": [
    "#valores maximos de las variables\n",
    "df0.max()"
   ]
  },
  {
   "cell_type": "code",
   "execution_count": 12,
   "metadata": {},
   "outputs": [
    {
     "data": {
      "text/plain": [
       "PRECIP                      0\n",
       "EVAP                        0\n",
       "TMAX                     -3.5\n",
       "TMIN                    -19.5\n",
       "FECHA     1961-02-01 00:00:00\n",
       "dtype: object"
      ]
     },
     "execution_count": 12,
     "metadata": {},
     "output_type": "execute_result"
    }
   ],
   "source": [
    "#valores minimos de cada variable \n",
    "df0.min()"
   ]
  },
  {
   "cell_type": "code",
   "execution_count": 13,
   "metadata": {},
   "outputs": [
    {
     "data": {
      "text/html": [
       "<div>\n",
       "<style scoped>\n",
       "    .dataframe tbody tr th:only-of-type {\n",
       "        vertical-align: middle;\n",
       "    }\n",
       "\n",
       "    .dataframe tbody tr th {\n",
       "        vertical-align: top;\n",
       "    }\n",
       "\n",
       "    .dataframe thead th {\n",
       "        text-align: right;\n",
       "    }\n",
       "</style>\n",
       "<table border=\"1\" class=\"dataframe\">\n",
       "  <thead>\n",
       "    <tr style=\"text-align: right;\">\n",
       "      <th></th>\n",
       "      <th>PRECIP</th>\n",
       "      <th>EVAP</th>\n",
       "      <th>TMAX</th>\n",
       "      <th>TMIN</th>\n",
       "    </tr>\n",
       "  </thead>\n",
       "  <tbody>\n",
       "    <tr>\n",
       "      <th>count</th>\n",
       "      <td>16733.000000</td>\n",
       "      <td>12277.000000</td>\n",
       "      <td>16446.000000</td>\n",
       "      <td>16435.000000</td>\n",
       "    </tr>\n",
       "    <tr>\n",
       "      <th>mean</th>\n",
       "      <td>0.955698</td>\n",
       "      <td>5.679653</td>\n",
       "      <td>26.371555</td>\n",
       "      <td>8.596580</td>\n",
       "    </tr>\n",
       "    <tr>\n",
       "      <th>std</th>\n",
       "      <td>4.043399</td>\n",
       "      <td>3.137320</td>\n",
       "      <td>8.018800</td>\n",
       "      <td>7.895741</td>\n",
       "    </tr>\n",
       "    <tr>\n",
       "      <th>min</th>\n",
       "      <td>0.000000</td>\n",
       "      <td>0.000000</td>\n",
       "      <td>-3.500000</td>\n",
       "      <td>-19.500000</td>\n",
       "    </tr>\n",
       "    <tr>\n",
       "      <th>25%</th>\n",
       "      <td>0.000000</td>\n",
       "      <td>3.100000</td>\n",
       "      <td>20.000000</td>\n",
       "      <td>2.000000</td>\n",
       "    </tr>\n",
       "    <tr>\n",
       "      <th>50%</th>\n",
       "      <td>0.000000</td>\n",
       "      <td>5.300000</td>\n",
       "      <td>27.000000</td>\n",
       "      <td>8.000000</td>\n",
       "    </tr>\n",
       "    <tr>\n",
       "      <th>75%</th>\n",
       "      <td>0.000000</td>\n",
       "      <td>7.900000</td>\n",
       "      <td>33.000000</td>\n",
       "      <td>16.000000</td>\n",
       "    </tr>\n",
       "    <tr>\n",
       "      <th>max</th>\n",
       "      <td>70.000000</td>\n",
       "      <td>17.600000</td>\n",
       "      <td>45.000000</td>\n",
       "      <td>27.000000</td>\n",
       "    </tr>\n",
       "  </tbody>\n",
       "</table>\n",
       "</div>"
      ],
      "text/plain": [
       "             PRECIP          EVAP          TMAX          TMIN\n",
       "count  16733.000000  12277.000000  16446.000000  16435.000000\n",
       "mean       0.955698      5.679653     26.371555      8.596580\n",
       "std        4.043399      3.137320      8.018800      7.895741\n",
       "min        0.000000      0.000000     -3.500000    -19.500000\n",
       "25%        0.000000      3.100000     20.000000      2.000000\n",
       "50%        0.000000      5.300000     27.000000      8.000000\n",
       "75%        0.000000      7.900000     33.000000     16.000000\n",
       "max       70.000000     17.600000     45.000000     27.000000"
      ]
     },
     "execution_count": 13,
     "metadata": {},
     "output_type": "execute_result"
    }
   ],
   "source": [
    "#una descripcion del archivo de datos \n",
    "df0.describe()"
   ]
  },
  {
   "cell_type": "code",
   "execution_count": 14,
   "metadata": {},
   "outputs": [
    {
     "data": {
      "text/html": [
       "<div>\n",
       "<style scoped>\n",
       "    .dataframe tbody tr th:only-of-type {\n",
       "        vertical-align: middle;\n",
       "    }\n",
       "\n",
       "    .dataframe tbody tr th {\n",
       "        vertical-align: top;\n",
       "    }\n",
       "\n",
       "    .dataframe thead th {\n",
       "        text-align: right;\n",
       "    }\n",
       "</style>\n",
       "<table border=\"1\" class=\"dataframe\">\n",
       "  <thead>\n",
       "    <tr style=\"text-align: right;\">\n",
       "      <th></th>\n",
       "      <th>PRECIP</th>\n",
       "      <th>EVAP</th>\n",
       "      <th>TMAX</th>\n",
       "      <th>TMIN</th>\n",
       "      <th>FECHA</th>\n",
       "      <th>dia</th>\n",
       "      <th>mes</th>\n",
       "      <th>año</th>\n",
       "    </tr>\n",
       "  </thead>\n",
       "  <tbody>\n",
       "    <tr>\n",
       "      <th>0</th>\n",
       "      <td>0.0</td>\n",
       "      <td>NaN</td>\n",
       "      <td>19.5</td>\n",
       "      <td>2.0</td>\n",
       "      <td>1961-02-01</td>\n",
       "      <td>1</td>\n",
       "      <td>2</td>\n",
       "      <td>1961</td>\n",
       "    </tr>\n",
       "    <tr>\n",
       "      <th>1</th>\n",
       "      <td>0.0</td>\n",
       "      <td>NaN</td>\n",
       "      <td>20.0</td>\n",
       "      <td>2.5</td>\n",
       "      <td>1961-02-02</td>\n",
       "      <td>2</td>\n",
       "      <td>2</td>\n",
       "      <td>1961</td>\n",
       "    </tr>\n",
       "    <tr>\n",
       "      <th>2</th>\n",
       "      <td>0.0</td>\n",
       "      <td>2.7</td>\n",
       "      <td>21.5</td>\n",
       "      <td>1.8</td>\n",
       "      <td>1961-02-03</td>\n",
       "      <td>3</td>\n",
       "      <td>2</td>\n",
       "      <td>1961</td>\n",
       "    </tr>\n",
       "    <tr>\n",
       "      <th>3</th>\n",
       "      <td>0.0</td>\n",
       "      <td>3.0</td>\n",
       "      <td>16.7</td>\n",
       "      <td>1.0</td>\n",
       "      <td>1961-02-04</td>\n",
       "      <td>4</td>\n",
       "      <td>2</td>\n",
       "      <td>1961</td>\n",
       "    </tr>\n",
       "    <tr>\n",
       "      <th>4</th>\n",
       "      <td>0.0</td>\n",
       "      <td>1.3</td>\n",
       "      <td>11.4</td>\n",
       "      <td>4.0</td>\n",
       "      <td>1961-02-05</td>\n",
       "      <td>5</td>\n",
       "      <td>2</td>\n",
       "      <td>1961</td>\n",
       "    </tr>\n",
       "  </tbody>\n",
       "</table>\n",
       "</div>"
      ],
      "text/plain": [
       "   PRECIP  EVAP  TMAX  TMIN      FECHA  dia  mes   año\n",
       "0     0.0   NaN  19.5   2.0 1961-02-01    1    2  1961\n",
       "1     0.0   NaN  20.0   2.5 1961-02-02    2    2  1961\n",
       "2     0.0   2.7  21.5   1.8 1961-02-03    3    2  1961\n",
       "3     0.0   3.0  16.7   1.0 1961-02-04    4    2  1961\n",
       "4     0.0   1.3  11.4   4.0 1961-02-05    5    2  1961"
      ]
     },
     "execution_count": 14,
     "metadata": {},
     "output_type": "execute_result"
    }
   ],
   "source": [
    "#separamos la variable de tiempo en tres columnas: dia, mes y año \n",
    "df0['dia'] = df0['FECHA'].dt.day\n",
    "df0['mes'] = df0['FECHA'].dt.month\n",
    "df0['año'] = df0['FECHA'].dt.year\n",
    "\n",
    "#imprimimos la tabla para ver como queda\n",
    "df0.head()"
   ]
  },
  {
   "cell_type": "code",
   "execution_count": 15,
   "metadata": {},
   "outputs": [],
   "source": [
    "#dividimos los meses por nombre para poder trabajar con ellos\n",
    "df0_ene = df0[df0.mes==1]\n",
    "df0_feb = df0[df0.mes==2]\n",
    "df0_mar = df0[df0.mes==3]\n",
    "df0_abr = df0[df0.mes==4]\n",
    "df0_may = df0[df0.mes==5]\n",
    "df0_jun = df0[df0.mes==6]\n",
    "df0_jul = df0[df0.mes==7]\n",
    "df0_ago = df0[df0.mes==8]\n",
    "df0_sep = df0[df0.mes==9]\n",
    "df0_oct = df0[df0.mes==10]\n",
    "df0_nov = df0[df0.mes==11]\n",
    "df0_dic = df0[df0.mes==12]"
   ]
  },
  {
   "cell_type": "code",
   "execution_count": 16,
   "metadata": {},
   "outputs": [
    {
     "name": "stdout",
     "output_type": "stream",
     "text": [
      "enero =  893.9\n",
      "febrero =  786.0\n",
      "marzo =  486.4\n",
      "abril =  291.29999999999995\n",
      "mayo =  245.3\n",
      "junio =  550.6\n",
      "julio =  4116.4\n",
      "agosto =  3499.4\n",
      "septiembre =  1870.7000000000003\n",
      "octubre =  1083.3000000000002\n",
      "noviembre =  873.8000000000001\n",
      "diciembre =  1294.6\n"
     ]
    }
   ],
   "source": [
    "#para sacar el promedio de las precepitaciones mensuales tenemos que sumar los datos de todos los meses y dividirlo entre el numero de datos de cada mes \n",
    "\n",
    "pp_ene = df0_ene.PRECIP.sum()\n",
    "print(\"enero = \",pp_ene)\n",
    "pp_feb = df0_feb.PRECIP.sum()\n",
    "print(\"febrero = \",pp_feb)\n",
    "pp_mar = df0_mar.PRECIP.sum()\n",
    "print(\"marzo = \",pp_mar)\n",
    "pp_abr = df0_abr.PRECIP.sum()\n",
    "print(\"abril = \",pp_abr)\n",
    "pp_may = df0_may.PRECIP.sum()\n",
    "print(\"mayo = \",pp_may)\n",
    "pp_jun = df0_jun.PRECIP.sum()\n",
    "print(\"junio = \",pp_jun)\n",
    "pp_jul = df0_jul.PRECIP.sum()\n",
    "print(\"julio = \",pp_jul)\n",
    "pp_ago = df0_ago.PRECIP.sum()\n",
    "print(\"agosto = \",pp_ago)\n",
    "pp_sep = df0_sep.PRECIP.sum()\n",
    "print(\"septiembre = \",pp_sep)\n",
    "pp_oct = df0_oct.PRECIP.sum()\n",
    "print(\"octubre = \",pp_oct)\n",
    "pp_nov = df0_nov.PRECIP.sum()\n",
    "print(\"noviembre = \",pp_nov)\n",
    "pp_dic = df0_dic.PRECIP.sum()\n",
    "print(\"diciembre = \",pp_dic)"
   ]
  },
  {
   "cell_type": "code",
   "execution_count": 17,
   "metadata": {},
   "outputs": [
    {
     "data": {
      "image/png": "[encoded data removed]",
      "text/plain": [
       "<Figure size 432x288 with 1 Axes>"
      ]
     },
     "metadata": {
      "needs_background": "light"
     },
     "output_type": "display_data"
    }
   ],
   "source": [
    "#con esto podemos graficar los promedios de cada mes\n",
    "meses = ('ene','feb','mar','abr','may','jun','jul','ago','sep','oct','nov','dic')\n",
    "\n",
    "#poner los datos de las precipitaciones en promedio\n",
    "y_pos = np.arange(len(meses))\n",
    "ptotal = [pp_ene,pp_feb,pp_mar,pp_abr,pp_may,pp_jun,pp_jul,pp_ago,pp_sep,pp_oct,pp_nov,pp_dic]\n",
    "\n",
    "#hacer la grafica\n",
    "plt.bar(y_pos, ptotal,align='center', alpha=0.3)\n",
    "\n",
    "#agregar los meses en el eje horizontal\n",
    "plt.xticks(y_pos, meses)\n",
    "plt.ylabel('promedio de precipitación por mes (mm)')\n",
    "plt.title('precipitaciones por meses desde 1961 hasta 2011')\n",
    "plt.savefig('precipitaciones',plt=2000)\n",
    "\n",
    "#ver la grafica\n",
    "plt.show()"
   ]
  },
  {
   "cell_type": "code",
   "execution_count": 18,
   "metadata": {},
   "outputs": [
    {
     "name": "stdout",
     "output_type": "stream",
     "text": [
      "temperatura mínima enero =  -0.6948023426061493\n",
      "temperatura mínima febrero =  0.9407692307692308\n",
      "temperatura mínima marzo =  3.734190410006949\n",
      "temperatura mínima abril =  7.088525780682644\n",
      "temperatura mínima mayo =  11.470736842105262\n",
      "temperatura mínima junio =  16.215356355620866\n",
      "temperatura mínima julio =  19.359738372093023\n",
      "temperatura mínima agosto =  18.55836516424752\n",
      "temperatura mínima septiembre =  15.583802281368822\n",
      "temperatura mínima octubre =  9.04330985915493\n",
      "temperatura mínima noviembre =  2.9437821927888153\n",
      "temperatura mínima diciembre =  -0.580043227665706\n"
     ]
    }
   ],
   "source": [
    "#podemos hacer lo mismo si queremos calcular la temperatura mas baja.\n",
    "tmin_ene = df0_ene.TMIN.mean()\n",
    "print(\"temperatura mínima enero = \",tmin_ene)\n",
    "tmin_feb = df0_feb.TMIN.mean()\n",
    "print(\"temperatura mínima febrero = \",tmin_feb)\n",
    "tmin_mar = df0_mar.TMIN.mean()\n",
    "print(\"temperatura mínima marzo = \",tmin_mar)\n",
    "tmin_abr = df0_abr.TMIN.mean()\n",
    "print(\"temperatura mínima abril = \",tmin_abr)\n",
    "tmin_may = df0_may.TMIN.mean()\n",
    "print(\"temperatura mínima mayo = \",tmin_may)\n",
    "tmin_jun = df0_jun.TMIN.mean()\n",
    "print(\"temperatura mínima junio = \",tmin_jun)\n",
    "tmin_jul = df0_jul.TMIN.mean()\n",
    "print(\"temperatura mínima julio = \",tmin_jul)\n",
    "tmin_ago = df0_ago.TMIN.mean()\n",
    "print(\"temperatura mínima agosto = \",tmin_ago)\n",
    "tmin_sep = df0_sep.TMIN.mean()\n",
    "print(\"temperatura mínima septiembre = \",tmin_sep)\n",
    "tmin_oct = df0_oct.TMIN.mean()\n",
    "print(\"temperatura mínima octubre = \",tmin_oct)\n",
    "tmin_nov = df0_nov.TMIN.mean()\n",
    "print(\"temperatura mínima noviembre = \",tmin_nov)\n",
    "tmin_dic = df0_dic.TMIN.mean()\n",
    "print(\"temperatura mínima diciembre = \",tmin_dic)\n"
   ]
  },
  {
   "cell_type": "code",
   "execution_count": 20,
   "metadata": {},
   "outputs": [
    {
     "data": {
      "image/png": "[encoded data removed]",
      "text/plain": [
       "<Figure size 432x288 with 1 Axes>"
      ]
     },
     "metadata": {
      "needs_background": "light"
     },
     "output_type": "display_data"
    }
   ],
   "source": [
    "#con esto podemos graficar las temperaturas mínimas promedio de cada mes\n",
    "meses = ('ene','feb','mar','abr','may','jun','jul','ago','sep','oct','nov','dic')\n",
    "\n",
    "#poner los datos de las precipitaciones en promedio\n",
    "y_pos = np.arange(len(meses))\n",
    "temp_min_total = [tmin_ene,tmin_feb,tmin_mar,tmin_abr,tmin_may,tmin_jun,tmin_jul,tmin_ago,tmin_sep,tmin_oct,tmin_nov,tmin_dic]\n",
    "\n",
    "#hacer la grafica\n",
    "plt.bar(y_pos, temp_min_total, align='center', alpha=0.3)\n",
    "\n",
    "#agregar los meses en el eje horizontal\n",
    "plt.xticks(y_pos, meses)\n",
    "plt.ylabel('promedio de temperaturas mínimas (*C)')\n",
    "plt.title('promedio de temperaturas mínimas por meses desde 1961 hasta 2011')\n",
    "plt.savefig('temperaturas_minimas',plt=2000)\n",
    "\n",
    "#ver la grafica\n",
    "plt.show()\n"
   ]
  },
  {
   "cell_type": "code",
   "execution_count": 21,
   "metadata": {},
   "outputs": [
    {
     "name": "stdout",
     "output_type": "stream",
     "text": [
      "temperatura máxima enero =  16.698611111111113\n",
      "temperatura máxima febrero =  18.695558958652374\n",
      "temperatura máxima marzo =  22.119318971507994\n",
      "temperatura máxima abril =  26.172727272727272\n",
      "temperatura máxima mayo =  30.71241234221599\n",
      "temperatura máxima junio =  35.69904552129221\n",
      "temperatura máxima julio =  35.14189090909091\n",
      "temperatura máxima agosto =  33.530259146341464\n",
      "temperatura máxima septiembre =  31.846083650190113\n",
      "temperatura máxima octubre =  27.469528501055592\n",
      "temperatura máxima noviembre =  21.629874908020604\n",
      "temperatura máxima diciembre =  16.997622478386166\n"
     ]
    }
   ],
   "source": [
    "#podemos hacer lo mismo si queremos calcular las temperaturas más calidas.\n",
    "tmax_ene = df0_ene.TMAX.mean()\n",
    "print(\"temperatura máxima enero = \",tmax_ene)\n",
    "tmax_feb = df0_feb.TMAX.mean()\n",
    "print(\"temperatura máxima febrero = \",tmax_feb)\n",
    "tmax_mar = df0_mar.TMAX.mean()\n",
    "print(\"temperatura máxima marzo = \",tmax_mar)\n",
    "tmax_abr = df0_abr.TMAX.mean()\n",
    "print(\"temperatura máxima abril = \",tmax_abr)\n",
    "tmax_may = df0_may.TMAX.mean()\n",
    "print(\"temperatura máxima mayo = \",tmax_may)\n",
    "tmax_jun = df0_jun.TMAX.mean()\n",
    "print(\"temperatura máxima junio = \",tmax_jun)\n",
    "tmax_jul = df0_jul.TMAX.mean()\n",
    "print(\"temperatura máxima julio = \",tmax_jul)\n",
    "tmax_ago = df0_ago.TMAX.mean()\n",
    "print(\"temperatura máxima agosto = \",tmax_ago)\n",
    "tmax_sep = df0_sep.TMAX.mean()\n",
    "print(\"temperatura máxima septiembre = \",tmax_sep)\n",
    "tmax_oct = df0_oct.TMAX.mean()\n",
    "print(\"temperatura máxima octubre = \",tmax_oct)\n",
    "tmax_nov = df0_nov.TMAX.mean()\n",
    "print(\"temperatura máxima noviembre = \",tmax_nov)\n",
    "tmax_dic = df0_dic.TMAX.mean()\n",
    "print(\"temperatura máxima diciembre = \",tmax_dic)\n"
   ]
  },
  {
   "cell_type": "code",
   "execution_count": 22,
   "metadata": {},
   "outputs": [
    {
     "data": {
      "image/png": "[encoded data removed]",
      "text/plain": [
       "<Figure size 432x288 with 1 Axes>"
      ]
     },
     "metadata": {
      "needs_background": "light"
     },
     "output_type": "display_data"
    }
   ],
   "source": [
    "#con esto podemos graficar las temperaturas mínimas promedio de cada mes\n",
    "meses = ('ene','feb','mar','abr','may','jun','jul','ago','sep','oct','nov','dic')\n",
    "\n",
    "#poner los datos de las precipitaciones en promedio\n",
    "y_pos = np.arange(len(meses))\n",
    "temp_max_total = [tmax_ene,tmax_feb,tmax_mar,tmax_abr,tmax_may,tmax_jun,tmax_jul,tmax_ago,tmax_sep,tmax_oct,tmax_nov,tmax_dic]\n",
    "\n",
    "#hacer la grafica\n",
    "plt.bar(y_pos, temp_max_total, align='center', alpha=0.3)\n",
    "\n",
    "#agregar los meses en el eje horizontal\n",
    "plt.xticks(y_pos, meses)\n",
    "plt.ylabel('promedio de temperaturas máximas (*C)')\n",
    "plt.title('promedio de temperaturas máximas por meses desde 1961 hasta 2011')\n",
    "plt.savefig('temperaturas_maximas',plt=2000)\n",
    "\n",
    "#ver la grafica\n",
    "plt.show()\n"
   ]
  },
  {
   "cell_type": "code",
   "execution_count": 23,
   "metadata": {},
   "outputs": [],
   "source": [
    "#hacemos un arreglo con las precipitaciones por año\n",
    "inicio = 1961\n",
    "arreglo_año= [inicio + i for i in range(0, 50)]\n",
    "sumatoria_precipitacion = [ df0[df0.año==(inicio + i)].PRECIP.sum() for i in range(0, 50)]\n",
    "\n",
    "#guardamos en un dataframe estos arreglos\n",
    "d0 = {'año': arreglo_año, 'precipitación total': sumatoria_precipitacion}\n",
    "df1 = pd.DataFrame(data=d0)"
   ]
  },
  {
   "cell_type": "code",
   "execution_count": 24,
   "metadata": {},
   "outputs": [
    {
     "data": {
      "image/png": "[encoded data removed]",
      "text/plain": [
       "<Figure size 432x288 with 1 Axes>"
      ]
     },
     "metadata": {
      "needs_background": "light"
     },
     "output_type": "display_data"
    }
   ],
   "source": [
    "#y graficamos las precipitaciones totales por año.\n",
    "\n",
    "#poner los datos de los arreglos \n",
    "date = arreglo_año\n",
    "T = np.arange(len(date))\n",
    "Rain = sumatoria_precipitacion\n",
    "\n",
    "#hacer la grafica\n",
    "plt.bar(T, Rain, width=0.4, align='center', alpha=0.4)\n",
    "\n",
    "#agregar los años en el eje horizontal\n",
    "plt.xticks(T, date, size='xx-small', rotation=90)\n",
    "plt.ylabel('Precipitación (mm)')\n",
    "plt.title('Precipitación total por años (1963-2011)')\n",
    "plt.savefig('precipitacion_anual',plt=2000)\n",
    "\n",
    "#ver la grafica\n",
    "plt.show()\n"
   ]
  },
  {
   "cell_type": "code",
   "execution_count": 25,
   "metadata": {},
   "outputs": [
    {
     "data": {
      "image/png": "[encoded data removed]",
      "text/plain": [
       "<Figure size 432x288 with 1 Axes>"
      ]
     },
     "metadata": {
      "needs_background": "light"
     },
     "output_type": "display_data"
    }
   ],
   "source": [
    "#seleccionamos las temperaturas máximas y mínimas de los meses de invierno\n",
    "temperatura_invierno = pd.DataFrame(df0.loc[df0['mes'].isin([12,1,2])])\n",
    "\n",
    "#hacemos arreglos para la temperatura promedio máxima y mínima de cada año\n",
    "invierno_max = [temperatura_invierno[temperatura_invierno.año==(inicio + i)].TMAX.mean() for i in range(0,50)]\n",
    "invierno_min = [temperatura_invierno[temperatura_invierno.año==(inicio + i)].TMIN.mean() for i in range(0,50)]\n",
    "\n",
    "#guardamos en un dataframe estos arreglos\n",
    "d3 = {'año': arreglo_año, 'tempmax': invierno_max, 'tempmin': invierno_min }\n",
    "df3 = pd.DataFrame(data=d3)\n",
    "\n",
    "#y graficamos las precipitaciones totales por año.\n",
    "\n",
    "#poner los datos de los arreglos \n",
    "N = np.arange(len(date))\n",
    "\n",
    "#hacer la grafica\n",
    "plt.bar(N, invierno_max, width=0.4, align='center', alpha=0.4, color='c')\n",
    "plt.xticks(N,arreglo_año,size='small',color='c',rotation=90)\n",
    "\n",
    "plt.bar(N, invierno_min, width=0.4, align='center', alpha=0.4, color='k')\n",
    "plt.xticks(N,arreglo_año,size='small',color='k',rotation=90)\n",
    "\n",
    "\n",
    "#agregar los años en el eje horizontal\n",
    "plt.ylabel('Temperatura (°C)')\n",
    "plt.title('Temperatura promedio máxima y mínima en invierno (1963-2011)')\n",
    "plt.gca().legend(('TMAX','TMIN'),frameon=False,loc='upper left')\n",
    "plt.savefig('temperaturas_invierno',plt=2000)\n",
    "\n",
    "#ver la grafica\n",
    "plt.show()\n"
   ]
  },
  {
   "cell_type": "code",
   "execution_count": 26,
   "metadata": {},
   "outputs": [
    {
     "data": {
      "image/png": "[encoded data removed]",
      "text/plain": [
       "<Figure size 432x288 with 1 Axes>"
      ]
     },
     "metadata": {
      "needs_background": "light"
     },
     "output_type": "display_data"
    }
   ],
   "source": [
    "#seleccionamos las temperaturas máximas y mínimas de los meses de verano\n",
    "temperatura_verano = pd.DataFrame(df0.loc[df0['mes'].isin([6,7,8,9])])\n",
    "\n",
    "#hacemos arreglos para la temperatura promedio máxima y mínima de cada año\n",
    "verano_max = [temperatura_verano[temperatura_verano.año==(inicio + i)].TMAX.mean() for i in range(0,50)]\n",
    "verano_min = [temperatura_verano[temperatura_verano.año==(inicio + i)].TMIN.mean() for i in range(0,50)]\n",
    "\n",
    "#guardamos en un dataframe estos arreglos\n",
    "d4 = {'año': arreglo_año, 'tempmax': verano_max, 'tempmin': verano_min }\n",
    "df4 = pd.DataFrame(data=d3)\n",
    "\n",
    "#y graficamos las precipitaciones totales por año.\n",
    "\n",
    "#poner los datos de los arreglos \n",
    "N = np.arange(len(date))\n",
    "\n",
    "#hacer la grafica\n",
    "plt.bar(N, verano_max, width=0.4, align='center', alpha=0.4, color='c')\n",
    "plt.xticks(N,arreglo_año,size='small',color='c',rotation=90)\n",
    "\n",
    "plt.bar(N, verano_min, width=0.4, align='center', alpha=0.4, color='k')\n",
    "plt.xticks(N,arreglo_año,size='small',color='k',rotation=90)\n",
    "\n",
    "\n",
    "#agregar los años en el eje horizontal\n",
    "plt.ylabel('Temperatura (°C)')\n",
    "plt.title('Temperatura promedio máxima y mínima en verano (1963-2011)')\n",
    "plt.gca().legend(('TMAX','TMIN'),frameon=False,loc='upper left')\n",
    "plt.savefig('temperaturas_verano',plt=2000)\n",
    "\n",
    "#ver la grafica\n",
    "plt.show()"
   ]
  },
  {
   "cell_type": "code",
   "execution_count": 27,
   "metadata": {},
   "outputs": [
    {
     "data": {
      "image/png": "[encoded data removed]",
      "text/plain": [
       "<Figure size 432x288 with 1 Axes>"
      ]
     },
     "metadata": {
      "needs_background": "light"
     },
     "output_type": "display_data"
    }
   ],
   "source": [
    "#Temperatura mensual promedio\n",
    "inicio = 1961\n",
    "arreglo_año= [inicio + i for i in range(0, 50)]\n",
    "temperatura_maxima_año = [df0[df0.año==(inicio + i)].TMAX.mean() for i in range(0,50)]\n",
    "temperatura_minima_año = [df0[df0.año==(inicio + i)].TMIN.mean() for i in range(0,50)]\n",
    "\n",
    "#guardamos en un dataframe estos arreglos\n",
    "d5 = {'año': arreglo_año, 'tempmaxano': temperatura_maxima_año, 'tempminano': temperatura_minima_año }\n",
    "df5 = pd.DataFrame(data=d5)\n",
    "\n",
    "#y graficamos las precipitaciones totales por año.\n",
    "\n",
    "#poner los datos de los arreglos \n",
    "N = np.arange(len(arreglo_año))\n",
    "\n",
    "#hacer la grafica\n",
    "plt.bar(N, temperatura_maxima_año, width=0.4, align='center', alpha=0.4, color='c')\n",
    "plt.xticks(N,arreglo_año,size='small',color='c',rotation=90)\n",
    "\n",
    "plt.bar(N, temperatura_minima_año, width=0.4, align='center', alpha=0.4, color='k')\n",
    "plt.xticks(N,arreglo_año,size='small',color='k',rotation=90)\n",
    "\n",
    "\n",
    "#agregar los años en el eje horizontal\n",
    "plt.ylabel('Temperatura (°C)')\n",
    "plt.title('Temperatura promedio máxima y mínima anual (1963-2011)')\n",
    "plt.gca().legend(('TMAX','TMIN'),frameon=False,loc='upper left')\n",
    "plt.savefig('temperaturas_anual',plt=2000)\n",
    "\n",
    "#ver la grafica\n",
    "plt.show()\n"
   ]
  },
  {
   "cell_type": "code",
   "execution_count": null,
   "metadata": {},
   "outputs": [],
   "source": []
  }
 ],
 "metadata": {
  "kernelspec": {
   "display_name": "Python 3",
   "language": "python",
   "name": "python3"
  },
  "language_info": {
   "codemirror_mode": {
    "name": "ipython",
    "version": 3
   },
   "file_extension": ".py",
   "mimetype": "text/x-python",
   "name": "python",
   "nbconvert_exporter": "python",
   "pygments_lexer": "ipython3",
   "version": "3.7.1"
  }
 },
 "nbformat": 4,
 "nbformat_minor": 2
}
